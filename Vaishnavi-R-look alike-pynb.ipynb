{
  "nbformat": 4,
  "nbformat_minor": 0,
  "metadata": {
    "colab": {
      "provenance": []
    },
    "kernelspec": {
      "name": "python3",
      "display_name": "Python 3"
    },
    "language_info": {
      "name": "python"
    }
  },
  "cells": [
    {
      "cell_type": "code",
      "execution_count": 1,
      "metadata": {
        "id": "kKv8LkFyp3J4"
      },
      "outputs": [],
      "source": [
        "import pandas as pd\n",
        "import numpy as np\n",
        "from sklearn.preprocessing import StandardScaler\n",
        "from sklearn.metrics.pairwise import cosine_similarity"
      ]
    },
    {
      "cell_type": "code",
      "source": [
        "df_customers = pd.read_csv('/Customers.csv')\n",
        "df_products = pd.read_csv('/Products (1).csv')\n",
        "df_transactions = pd.read_csv('/Transactions.csv')"
      ],
      "metadata": {
        "id": "fFldp-4VsBgF"
      },
      "execution_count": 3,
      "outputs": []
    },
    {
      "cell_type": "code",
      "source": [
        "df_transactions = pd.merge(df_transactions, df_customers[['CustomerID', 'Region']], on='CustomerID', how='left')\n",
        "\n",
        "# Merge transaction data with product data\n",
        "df_transactions = pd.merge(df_transactions, df_products[['ProductID', 'Category']], on='ProductID', how='left')\n"
      ],
      "metadata": {
        "id": "g1fI1AbYsS1w"
      },
      "execution_count": 4,
      "outputs": []
    },
    {
      "cell_type": "code",
      "source": [
        "customer_profile = df_transactions.groupby(['CustomerID', 'Region']).agg(\n",
        "    total_spend=('TotalValue', 'sum'),\n",
        "    total_transactions=('TransactionID', 'count'),\n",
        "    unique_products=('ProductID', 'nunique')\n",
        ").reset_index()"
      ],
      "metadata": {
        "id": "eTsA5XFUsVwU"
      },
      "execution_count": 5,
      "outputs": []
    },
    {
      "cell_type": "code",
      "source": [
        "scaler = StandardScaler()\n",
        "customer_profile[['total_spend', 'total_transactions', 'unique_products']] = scaler.fit_transform(\n",
        "    customer_profile[['total_spend', 'total_transactions', 'unique_products']])"
      ],
      "metadata": {
        "id": "KlopJ6rUsdqc"
      },
      "execution_count": 6,
      "outputs": []
    },
    {
      "cell_type": "code",
      "source": [
        "# Compute customer similarity based on profile features (numerical)\n",
        "profile_features = customer_profile[['total_spend', 'total_transactions', 'unique_products']].values\n",
        "\n",
        "# Calculate cosine similarity matrix for customer profiles\n",
        "customer_similarity = cosine_similarity(profile_features)\n",
        "\n",
        "# Display the similarity matrix (optional)\n",
        "print(customer_similarity)\n"
      ],
      "metadata": {
        "colab": {
          "base_uri": "https://localhost:8080/"
        },
        "id": "rD3p64-ksxL0",
        "outputId": "019a30d9-baa3-4055-f48f-6b2d564fe90a"
      },
      "execution_count": 7,
      "outputs": [
        {
          "output_type": "stream",
          "name": "stdout",
          "text": [
            "[[ 1.          0.44114968  0.15220261 ...  0.17039607  0.41545374\n",
            "  -0.72029863]\n",
            " [ 0.44114968  1.          0.93017042 ...  0.94614583  0.99934692\n",
            "  -0.8304382 ]\n",
            " [ 0.15220261  0.93017042  1.         ...  0.99813279  0.94282908\n",
            "  -0.56923855]\n",
            " ...\n",
            " [ 0.17039607  0.94614583  0.99813279 ...  1.          0.95714768\n",
            "  -0.61009195]\n",
            " [ 0.41545374  0.99934692  0.94282908 ...  0.95714768  1.\n",
            "  -0.80989468]\n",
            " [-0.72029863 -0.8304382  -0.56923855 ... -0.61009195 -0.80989468\n",
            "   1.        ]]\n"
          ]
        }
      ]
    },
    {
      "cell_type": "code",
      "source": [
        "# Create a transaction matrix for customers by product category\n",
        "transaction_matrix = df_transactions.pivot_table(index='CustomerID', columns='Category', values='Quantity', aggfunc='sum', fill_value=0)\n",
        "\n",
        "# Normalize the transaction matrix (optional)\n",
        "transaction_matrix_normalized = StandardScaler().fit_transform(transaction_matrix)\n",
        "\n",
        "# Calculate cosine similarity based on transaction history\n",
        "transaction_similarity = cosine_similarity(transaction_matrix_normalized)\n",
        "\n",
        "# Display the transaction similarity matrix (optional)\n",
        "print(transaction_similarity)\n"
      ],
      "metadata": {
        "colab": {
          "base_uri": "https://localhost:8080/"
        },
        "id": "pDuuKWwds6ZJ",
        "outputId": "9849cd86-97ff-400b-c5a4-c66d292cbd5a"
      },
      "execution_count": 8,
      "outputs": [
        {
          "output_type": "stream",
          "name": "stdout",
          "text": [
            "[[ 1.         -0.38916864  0.19281314 ...  0.00460424  0.46173566\n",
            "  -0.89589775]\n",
            " [-0.38916864  1.          0.70287821 ...  0.29311796  0.57766211\n",
            "   0.43262864]\n",
            " [ 0.19281314  0.70287821  1.         ... -0.00336114  0.66655233\n",
            "   0.11836717]\n",
            " ...\n",
            " [ 0.00460424  0.29311796 -0.00336114 ...  1.          0.21086661\n",
            "  -0.15370134]\n",
            " [ 0.46173566  0.57766211  0.66655233 ...  0.21086661  1.\n",
            "  -0.45632394]\n",
            " [-0.89589775  0.43262864  0.11836717 ... -0.15370134 -0.45632394\n",
            "   1.        ]]\n"
          ]
        }
      ]
    },
    {
      "cell_type": "code",
      "source": [
        "# Weighting profile similarity and transaction similarity\n",
        "profile_weight = 0.6\n",
        "transaction_weight = 0.4\n",
        "\n",
        "# Combined similarity\n",
        "combined_similarity = profile_weight * customer_similarity + transaction_weight * transaction_similarity\n",
        "\n",
        "# Display the combined similarity matrix\n",
        "print(combined_similarity)\n"
      ],
      "metadata": {
        "colab": {
          "base_uri": "https://localhost:8080/"
        },
        "id": "ctkdtHCts-x9",
        "outputId": "ed281de0-2a21-4928-e5e7-0a93e266df0c"
      },
      "execution_count": 9,
      "outputs": [
        {
          "output_type": "stream",
          "name": "stdout",
          "text": [
            "[[ 1.          0.10902235  0.16844682 ...  0.10407934  0.43396651\n",
            "  -0.79053828]\n",
            " [ 0.10902235  1.          0.83925354 ...  0.68493468  0.83067299\n",
            "  -0.32521147]\n",
            " [ 0.16844682  0.83925354  1.         ...  0.59753522  0.83231838\n",
            "  -0.29419626]\n",
            " ...\n",
            " [ 0.10407934  0.68493468  0.59753522 ...  1.          0.65863525\n",
            "  -0.42753571]\n",
            " [ 0.43396651  0.83067299  0.83231838 ...  0.65863525  1.\n",
            "  -0.66846639]\n",
            " [-0.79053828 -0.32521147 -0.29419626 ... -0.42753571 -0.66846639\n",
            "   1.        ]]\n"
          ]
        }
      ]
    },
    {
      "cell_type": "code",
      "source": [
        "# For a given customer (e.g., CustomerID 123), find the 3 most similar customers\n",
        "customer_id = 'C0001' # Changed this line to enclose C0001 in quotes\n",
        "\n",
        "# Check if the customer exists in the DataFrame\n",
        "if customer_id in customer_profile['CustomerID'].values:\n",
        "    # Get the index of the given customer in the similarity matrix\n",
        "    customer_idx = customer_profile[customer_profile['CustomerID'] == customer_id].index[0]\n",
        "\n",
        "    # Get the similarity scores for the given customer\n",
        "    similarities = combined_similarity[customer_idx]\n",
        "\n",
        "    # Get the indices of the 3 most similar customers\n",
        "    top_3_similar_customers = similarities.argsort()[-4:-1]  # Exclude the customer itself\n",
        "\n",
        "    # Display the top 3 similar customers\n",
        "    recommended_customers = customer_profile.iloc[top_3_similar_customers]\n",
        "    print(recommended_customers[['CustomerID', 'Region', 'total_spend']])\n",
        "else:\n",
        "    print(f\"Customer with ID {customer_id} not found in the dataset.\")"
      ],
      "metadata": {
        "colab": {
          "base_uri": "https://localhost:8080/"
        },
        "id": "ecSFpJb3tm24",
        "outputId": "ee96a2ff-ac48-4992-c295-87f4ced8518d"
      },
      "execution_count": 13,
      "outputs": [
        {
          "output_type": "stream",
          "name": "stdout",
          "text": [
            "    CustomerID         Region  total_spend\n",
            "54       C0055  North America    -0.333486\n",
            "156      C0157  North America    -0.870435\n",
            "68       C0069         Europe    -0.321993\n"
          ]
        }
      ]
    },
    {
      "cell_type": "code",
      "source": [
        "# Assuming combined similarity matrix\n",
        "final_similarity = pd.DataFrame({\n",
        "    'CustomerID': ['C0002','C0022','C0033','C0044'], # Enclose customer IDs in quotes to treat them as strings\n",
        "    'SimilarityScore': [0.85, 0.78, 0.92, 0.65]\n",
        "})\n",
        "\n",
        "# Sort customers by similarity score (descending)\n",
        "top_3_similar_customers = final_similarity.sort_values(by='SimilarityScore', ascending=False).head(3)\n",
        "print(top_3_similar_customers)"
      ],
      "metadata": {
        "colab": {
          "base_uri": "https://localhost:8080/"
        },
        "id": "M8l4uw1Ovjvb",
        "outputId": "ae721559-9077-4621-c36a-119bf602f61f"
      },
      "execution_count": 15,
      "outputs": [
        {
          "output_type": "stream",
          "name": "stdout",
          "text": [
            "  CustomerID  SimilarityScore\n",
            "2      C0033             0.92\n",
            "0      C0002             0.85\n",
            "1      C0022             0.78\n"
          ]
        }
      ]
    },
    {
      "cell_type": "code",
      "source": [],
      "metadata": {
        "id": "5WTG0326vnBp"
      },
      "execution_count": null,
      "outputs": []
    }
  ]
}